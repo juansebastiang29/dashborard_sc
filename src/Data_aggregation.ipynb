{
 "cells": [
  {
   "cell_type": "code",
   "execution_count": 4,
   "metadata": {},
   "outputs": [],
   "source": [
    "import pandas as pd\n",
    "import zipfile\n",
    "import os\n",
    "import sys\n",
    "from datetime import datetime\n",
    "from datetime import timedelta\n",
    "import numpy as np\n",
    "pd.set_option('display.max_columns', 500)"
   ]
  },
  {
   "cell_type": "code",
   "execution_count": null,
   "metadata": {},
   "outputs": [],
   "source": [
    "# dateparse = lambda x: pd.datetime.strptime(x, '%Y-%m-%d')\n",
    "vars_serg = [\"estadoOrden\",\"Ciudad\",\"Departamento\",\n",
    "             \"stado_producto\",\"Marca\",\"Pasillo\",\"Categoria\",\n",
    "             \"ProductoEnPromocion\",\"cantidadVendida\",\n",
    "             \"TotalPagado\",\"Domicilio\",\"PrecioFinal\",\n",
    "             \"FechaCreaciónOrden\"]"
   ]
  },
  {
   "cell_type": "code",
   "execution_count": null,
   "metadata": {},
   "outputs": [],
   "source": [
    "import dask.dataframe as dd"
   ]
  },
  {
   "cell_type": "code",
   "execution_count": null,
   "metadata": {},
   "outputs": [],
   "source": [
    "df_dask = dd.read_csv(\"Data/MERQ_CONS\",\n",
    "                      usecols=vars_serg,\n",
    "                      encoding='latin1',\n",
    "                      assume_missing=True,\n",
    "                     dtype={'estadoOrden' : str,\n",
    "                            'TotalPagado' : np.float64,\n",
    "                            \"Domicilio\" : str,\n",
    "                            \"FechaCreaciónOrden\" : str,\n",
    "                            \"FechaProgramaciónOrden\" : str,\n",
    "                            \"FechadeEntregaOrden\" : str,\n",
    "                            \"Ciudad\" : str,\n",
    "                            \"fechacreacionProducto\" : str,\n",
    "                            \"stado_producto\" : str,\n",
    "                            \"Marca\" : str,\n",
    "                            \"Departamento\" : str,\n",
    "                            \"Pasillo\" : str,\n",
    "                            \"Categoria\" : str,\n",
    "                            \"ProductoEnPromocion\" : np.float64,\n",
    "                            \"cantidadVendida\" : np.float64,\n",
    "                            \"PrecioFinal\": np.float64})"
   ]
  },
  {
   "cell_type": "code",
   "execution_count": null,
   "metadata": {
    "scrolled": true
   },
   "outputs": [],
   "source": [
    "df_dask = df_dask.dropna()\n",
    "df_dask.set_index(\"FechaCreaciónOrden\")\n",
    "df_dask[\"FechaCreaciónOrden\"] = df_dask[\"FechaCreaciónOrden\"].map_partitions(pd.to_datetime,\n",
    "                                                                             format='%Y-%m-%d',\n",
    "                                                                             meta = ('datetime64[ns]'))"
   ]
  },
  {
   "cell_type": "code",
   "execution_count": null,
   "metadata": {},
   "outputs": [],
   "source": [
    "df_dask.head()"
   ]
  },
  {
   "cell_type": "code",
   "execution_count": null,
   "metadata": {},
   "outputs": [],
   "source": [
    "vars_group_b = [\"FechaCreaciónOrden\",\n",
    "                \"Ciudad\",\"Departamento\",\n",
    "                \"estadoOrden\",\"stado_producto\",\n",
    "                \"Marca\",\"Pasillo\",\"Categoria\",\n",
    "                \"ProductoEnPromocion\"]"
   ]
  },
  {
   "cell_type": "code",
   "execution_count": null,
   "metadata": {},
   "outputs": [],
   "source": [
    "agg = df_dask.groupby(vars_group_b).sum()"
   ]
  },
  {
   "cell_type": "code",
   "execution_count": null,
   "metadata": {},
   "outputs": [],
   "source": [
    "%time nulls.compute()"
   ]
  },
  {
   "cell_type": "code",
   "execution_count": null,
   "metadata": {},
   "outputs": [],
   "source": [
    "report_device = df_dask.estadoOrden.value_counts()/df_dask.estadoOrden.value_counts().sum()\n",
    "report_device.compute()"
   ]
  },
  {
   "cell_type": "code",
   "execution_count": null,
   "metadata": {},
   "outputs": [],
   "source": [
    "df_dask.dtypes"
   ]
  },
  {
   "cell_type": "code",
   "execution_count": null,
   "metadata": {},
   "outputs": [],
   "source": [
    "df_p = pd.read_csv(\"../Data/MERQ_CONS\",\n",
    "                      usecols=vars_serg,\n",
    "                      encoding='latin1',\n",
    "                     dtype={'estadoOrden' : str,\n",
    "                            'TotalPagado' : np.float64,\n",
    "                            \"Domicilio\" : str,\n",
    "                            \"FechaCreaciónOrden\" : str,\n",
    "                            \"FechaProgramaciónOrden\" : str,\n",
    "                            \"FechadeEntregaOrden\" : str,\n",
    "                            \"Ciudad\" : str,\n",
    "                            \"fechacreacionProducto\" : str,\n",
    "                            \"stado_producto\" : str,\n",
    "                            \"Marca\" : str,\n",
    "                            \"Departamento\" : str,\n",
    "                            \"Pasillo\" : str,\n",
    "                            \"Categoria\" : str,\n",
    "                            \"ProductoEnPromocion\" : np.float64,\n",
    "                            \"cantidadVendida\" : np.float64,\n",
    "                            \"PrecioFinal\": np.float64})"
   ]
  },
  {
   "cell_type": "code",
   "execution_count": null,
   "metadata": {},
   "outputs": [],
   "source": [
    "df_p = df_p.dropna()"
   ]
  },
  {
   "cell_type": "code",
   "execution_count": null,
   "metadata": {},
   "outputs": [],
   "source": [
    "agg = df_p.groupby(vars_group_b,as_index=False).sum()"
   ]
  },
  {
   "cell_type": "code",
   "execution_count": null,
   "metadata": {},
   "outputs": [],
   "source": [
    "agg.shape"
   ]
  },
  {
   "cell_type": "code",
   "execution_count": null,
   "metadata": {},
   "outputs": [],
   "source": [
    "agg.to_csv(\"Data/AGG_MERQUEO.csv\",index=False)"
   ]
  },
  {
   "cell_type": "markdown",
   "metadata": {},
   "source": [
    "## Agregado sub set"
   ]
  },
  {
   "cell_type": "code",
   "execution_count": 5,
   "metadata": {},
   "outputs": [
    {
     "name": "stdout",
     "output_type": "stream",
     "text": [
      "CPU times: user 1.24 s, sys: 106 ms, total: 1.34 s\n",
      "Wall time: 1.28 s\n"
     ]
    }
   ],
   "source": [
    "%time df = pd.read_csv(\"../Data/AGG_MERQUEO.csv\", encoding='latin1')"
   ]
  },
  {
   "cell_type": "code",
   "execution_count": 6,
   "metadata": {},
   "outputs": [],
   "source": [
    "df['FechaCreaciónOrden'] = pd.to_datetime(df.FechaCreaciónOrden)"
   ]
  },
  {
   "cell_type": "code",
   "execution_count": 7,
   "metadata": {},
   "outputs": [],
   "source": [
    "df.set_index(\"FechaCreaciónOrden\",inplace=True)"
   ]
  },
  {
   "cell_type": "code",
   "execution_count": null,
   "metadata": {},
   "outputs": [],
   "source": [
    "df_sb = df[df.Ciudad.str.contains(\"Bogotá\")][['cantidadVendida']]\n",
    "df_sb = df_sb.resample('D').sum()"
   ]
  },
  {
   "cell_type": "code",
   "execution_count": null,
   "metadata": {},
   "outputs": [],
   "source": [
    "df.Ciudad.value_counts()"
   ]
  }
 ],
 "metadata": {
  "kernelspec": {
   "display_name": "Python 3",
   "language": "python",
   "name": "python3"
  },
  "language_info": {
   "codemirror_mode": {
    "name": "ipython",
    "version": 3
   },
   "file_extension": ".py",
   "mimetype": "text/x-python",
   "name": "python",
   "nbconvert_exporter": "python",
   "pygments_lexer": "ipython3",
   "version": "3.6.6"
  }
 },
 "nbformat": 4,
 "nbformat_minor": 2
}
