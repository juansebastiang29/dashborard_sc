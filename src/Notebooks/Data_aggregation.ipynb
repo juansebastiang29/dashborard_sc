{
 "cells": [
  {
   "cell_type": "code",
   "execution_count": 1,
   "metadata": {},
   "outputs": [],
   "source": [
    "import pandas as pd\n",
    "import zipfile\n",
    "import os\n",
    "import sys\n",
    "from datetime import datetime\n",
    "from datetime import timedelta\n",
    "import numpy as np\n",
    "pd.set_option('display.max_columns', 500)"
   ]
  },
  {
   "cell_type": "code",
   "execution_count": 2,
   "metadata": {},
   "outputs": [],
   "source": [
    "# dateparse = lambda x: pd.datetime.strptime(x, '%Y-%m-%d')\n",
    "vars_serg = [\"estadoOrden\",\"Ciudad\",\"Departamento\",\n",
    "             \"stado_producto\",\"Marca\",\"Pasillo\",\"Categoria\",\n",
    "             \"ProductoEnPromocion\",\"cantidadVendida\",\n",
    "             \"TotalPagado\",\"Domicilio\",\"PrecioFinal\",\n",
    "             \"NombreProducto\",\n",
    "             \"FechaCreaciónOrden\"]"
   ]
  },
  {
   "cell_type": "code",
   "execution_count": 3,
   "metadata": {},
   "outputs": [],
   "source": [
    "vars_group_b = [\"FechaCreaciónOrden\",\n",
    "                'month_year',\n",
    "                \"Ciudad\",\n",
    "                \"Departamento\",\n",
    "                \"estadoOrden\",\n",
    "                \"stado_producto\",\n",
    "                \"Marca\",\n",
    "                \"NombreProducto\",\n",
    "                \"Pasillo\",\n",
    "                \"Categoria\",\n",
    "                \"ProductoEnPromocion\"]"
   ]
  },
  {
   "cell_type": "code",
   "execution_count": null,
   "metadata": {},
   "outputs": [],
   "source": [
    "import dask.dataframe as dd"
   ]
  },
  {
   "cell_type": "code",
   "execution_count": null,
   "metadata": {},
   "outputs": [],
   "source": [
    "df_dask = dd.read_csv(\"../Data/MERQ_CONS\",\n",
    "                      usecols=vars_serg,\n",
    "                      encoding='latin1',\n",
    "                      assume_missing=True,\n",
    "                     dtype={'estadoOrden' : str,\n",
    "                            'TotalPagado' : np.float64,\n",
    "                            \"Domicilio\" : str,\n",
    "                            \"FechaCreaciónOrden\" : str,\n",
    "                            \"FechaProgramaciónOrden\" : str,\n",
    "                            \"FechadeEntregaOrden\" : str,\n",
    "                            \"Ciudad\" : str,\n",
    "                            \"fechacreacionProducto\" : str,\n",
    "                            \"stado_producto\" : str,\n",
    "                            \"Marca\" : str,\n",
    "                            \"Departamento\" : str,\n",
    "                            \"Pasillo\" : str,\n",
    "                            \"Categoria\" : str,\n",
    "                            \"ProductoEnPromocion\" : np.float64,\n",
    "                            \"cantidadVendida\" : np.float64,\n",
    "                            \"PrecioFinal\": np.float64})"
   ]
  },
  {
   "cell_type": "code",
   "execution_count": null,
   "metadata": {
    "scrolled": true
   },
   "outputs": [],
   "source": [
    "df_dask = df_dask.dropna()\n",
    "df_dask.set_index(\"FechaCreaciónOrden\")\n",
    "df_dask[\"FechaCreaciónOrden\"] = df_dask[\"FechaCreaciónOrden\"]\\\n",
    "                                        .map_partitions(pd.to_datetime,\n",
    "                                                        format='%Y-%m-%d',meta = ('datetime64[ns]'))"
   ]
  },
  {
   "cell_type": "code",
   "execution_count": null,
   "metadata": {},
   "outputs": [],
   "source": [
    "df_dask['month_year'] = df_dask.FechaCreaciónOrden.apply(lambda x: \"%d-%d\" % (x.year,x.month))"
   ]
  },
  {
   "cell_type": "code",
   "execution_count": null,
   "metadata": {},
   "outputs": [],
   "source": [
    "df_dask = df_dask[(df_dask.cantidadVendida>0) & \n",
    "                  (df_dask.cantidadVendida<np.percentile(df_dask.cantidadVendida,q=95))]"
   ]
  },
  {
   "cell_type": "code",
   "execution_count": null,
   "metadata": {},
   "outputs": [],
   "source": [
    "df_dask.dtypes"
   ]
  },
  {
   "cell_type": "code",
   "execution_count": null,
   "metadata": {},
   "outputs": [],
   "source": []
  },
  {
   "cell_type": "code",
   "execution_count": null,
   "metadata": {},
   "outputs": [],
   "source": []
  },
  {
   "cell_type": "code",
   "execution_count": null,
   "metadata": {},
   "outputs": [],
   "source": []
  },
  {
   "cell_type": "code",
   "execution_count": null,
   "metadata": {},
   "outputs": [],
   "source": []
  },
  {
   "cell_type": "code",
   "execution_count": null,
   "metadata": {},
   "outputs": [],
   "source": [
    "df_val = get_feat_y(df_p['2017-12':'2018-01'])\n",
    "df_test = get_feat_y(df_p['2018-02':])"
   ]
  },
  {
   "cell_type": "code",
   "execution_count": null,
   "metadata": {},
   "outputs": [],
   "source": [
    "%time agg = df_dask.groupby(vars_group_b).sum()"
   ]
  },
  {
   "cell_type": "code",
   "execution_count": null,
   "metadata": {},
   "outputs": [],
   "source": [
    "df_dask.set_index(\"FechaCreaciónOrden\")"
   ]
  },
  {
   "cell_type": "code",
   "execution_count": null,
   "metadata": {},
   "outputs": [],
   "source": [
    "df_dask.divisions"
   ]
  },
  {
   "cell_type": "code",
   "execution_count": null,
   "metadata": {},
   "outputs": [],
   "source": [
    "df_dask.resample('D').sum()"
   ]
  },
  {
   "cell_type": "code",
   "execution_count": 4,
   "metadata": {},
   "outputs": [
    {
     "name": "stderr",
     "output_type": "stream",
     "text": [
      "/home/sebastian/anaconda3/lib/python3.6/site-packages/IPython/core/interactiveshell.py:2785: DtypeWarning: Columns (20) have mixed types. Specify dtype option on import or set low_memory=False.\n",
      "  interactivity=interactivity, compiler=compiler, result=result)\n"
     ]
    }
   ],
   "source": [
    "df_p = pd.read_csv(\"../Data/MERQ_CONS\",\n",
    "                      usecols=vars_serg,\n",
    "                      encoding='latin1',\n",
    "                     dtype={'estadoOrden' : str,\n",
    "                            'TotalPagado' : np.float64,\n",
    "                            \"Domicilio\" : str,\n",
    "                            \"FechaCreaciónOrden\" : str,\n",
    "                            \"FechaProgramaciónOrden\" : str,\n",
    "                            \"FechadeEntregaOrden\" : str,\n",
    "                            \"Ciudad\" : str,\n",
    "                            \"fechacreacionProducto\" : str,\n",
    "                            \"stado_producto\" : str,\n",
    "                            \"Marca\" : str,\n",
    "                            \"Departamento\" : str,\n",
    "                            \"Pasillo\" : str,\n",
    "                            \"Categoria\" : str,\n",
    "                            \"ProductoEnPromocion\" : np.float64,\n",
    "                            \"cantidadVendida\" : np.float64,\n",
    "                            \"PrecioFinal\": np.float64})"
   ]
  },
  {
   "cell_type": "code",
   "execution_count": 5,
   "metadata": {},
   "outputs": [],
   "source": [
    "df_p = df_p.dropna()"
   ]
  },
  {
   "cell_type": "code",
   "execution_count": 6,
   "metadata": {},
   "outputs": [],
   "source": [
    "df_p = df_p[df_p.cantidadVendida>0]"
   ]
  },
  {
   "cell_type": "code",
   "execution_count": 7,
   "metadata": {},
   "outputs": [
    {
     "data": {
      "text/html": [
       "<div>\n",
       "<style scoped>\n",
       "    .dataframe tbody tr th:only-of-type {\n",
       "        vertical-align: middle;\n",
       "    }\n",
       "\n",
       "    .dataframe tbody tr th {\n",
       "        vertical-align: top;\n",
       "    }\n",
       "\n",
       "    .dataframe thead th {\n",
       "        text-align: right;\n",
       "    }\n",
       "</style>\n",
       "<table border=\"1\" class=\"dataframe\">\n",
       "  <thead>\n",
       "    <tr style=\"text-align: right;\">\n",
       "      <th></th>\n",
       "      <th>TotalPagado</th>\n",
       "      <th>cantidadVendida</th>\n",
       "      <th>ProductoEnPromocion</th>\n",
       "      <th>PrecioFinal</th>\n",
       "    </tr>\n",
       "  </thead>\n",
       "  <tbody>\n",
       "    <tr>\n",
       "      <th>count</th>\n",
       "      <td>4.610690e+06</td>\n",
       "      <td>4.610690e+06</td>\n",
       "      <td>4.610690e+06</td>\n",
       "      <td>4.610690e+06</td>\n",
       "    </tr>\n",
       "    <tr>\n",
       "      <th>mean</th>\n",
       "      <td>1.711148e+05</td>\n",
       "      <td>1.282874e+00</td>\n",
       "      <td>2.386920e-01</td>\n",
       "      <td>4.853328e+03</td>\n",
       "    </tr>\n",
       "    <tr>\n",
       "      <th>std</th>\n",
       "      <td>2.088658e+06</td>\n",
       "      <td>1.782248e+01</td>\n",
       "      <td>4.262842e-01</td>\n",
       "      <td>7.549384e+03</td>\n",
       "    </tr>\n",
       "    <tr>\n",
       "      <th>min</th>\n",
       "      <td>0.000000e+00</td>\n",
       "      <td>1.000000e+00</td>\n",
       "      <td>0.000000e+00</td>\n",
       "      <td>0.000000e+00</td>\n",
       "    </tr>\n",
       "    <tr>\n",
       "      <th>25%</th>\n",
       "      <td>5.585900e+04</td>\n",
       "      <td>1.000000e+00</td>\n",
       "      <td>0.000000e+00</td>\n",
       "      <td>2.200000e+03</td>\n",
       "    </tr>\n",
       "    <tr>\n",
       "      <th>50%</th>\n",
       "      <td>1.145720e+05</td>\n",
       "      <td>1.000000e+00</td>\n",
       "      <td>0.000000e+00</td>\n",
       "      <td>3.591000e+03</td>\n",
       "    </tr>\n",
       "    <tr>\n",
       "      <th>75%</th>\n",
       "      <td>1.792800e+05</td>\n",
       "      <td>1.000000e+00</td>\n",
       "      <td>0.000000e+00</td>\n",
       "      <td>5.990000e+03</td>\n",
       "    </tr>\n",
       "    <tr>\n",
       "      <th>max</th>\n",
       "      <td>2.919293e+08</td>\n",
       "      <td>1.551800e+04</td>\n",
       "      <td>1.000000e+00</td>\n",
       "      <td>2.611090e+06</td>\n",
       "    </tr>\n",
       "  </tbody>\n",
       "</table>\n",
       "</div>"
      ],
      "text/plain": [
       "        TotalPagado  cantidadVendida  ProductoEnPromocion   PrecioFinal\n",
       "count  4.610690e+06     4.610690e+06         4.610690e+06  4.610690e+06\n",
       "mean   1.711148e+05     1.282874e+00         2.386920e-01  4.853328e+03\n",
       "std    2.088658e+06     1.782248e+01         4.262842e-01  7.549384e+03\n",
       "min    0.000000e+00     1.000000e+00         0.000000e+00  0.000000e+00\n",
       "25%    5.585900e+04     1.000000e+00         0.000000e+00  2.200000e+03\n",
       "50%    1.145720e+05     1.000000e+00         0.000000e+00  3.591000e+03\n",
       "75%    1.792800e+05     1.000000e+00         0.000000e+00  5.990000e+03\n",
       "max    2.919293e+08     1.551800e+04         1.000000e+00  2.611090e+06"
      ]
     },
     "execution_count": 7,
     "metadata": {},
     "output_type": "execute_result"
    }
   ],
   "source": [
    "df_p.describe()"
   ]
  },
  {
   "cell_type": "code",
   "execution_count": 8,
   "metadata": {},
   "outputs": [],
   "source": [
    "df_p[\"cuenta_gr\"] = [1]*df_p.shape[0]"
   ]
  },
  {
   "cell_type": "code",
   "execution_count": 9,
   "metadata": {},
   "outputs": [],
   "source": [
    "df_p['FechaCreaciónOrden'] = pd.to_datetime(df_p.FechaCreaciónOrden)"
   ]
  },
  {
   "cell_type": "code",
   "execution_count": 10,
   "metadata": {},
   "outputs": [],
   "source": [
    "df_p['month_year'] = df_p.FechaCreaciónOrden.apply(lambda x: \"%d-%d\" % (x.year,x.month))"
   ]
  },
  {
   "cell_type": "code",
   "execution_count": 11,
   "metadata": {},
   "outputs": [],
   "source": [
    "df_p['FechaCreaciónOrden'] = pd.to_datetime(df_p.FechaCreaciónOrden)\n",
    "df_p.set_index(\"FechaCreaciónOrden\",inplace=True,drop=False)"
   ]
  },
  {
   "cell_type": "code",
   "execution_count": 12,
   "metadata": {},
   "outputs": [
    {
     "data": {
      "text/html": [
       "<div>\n",
       "<style scoped>\n",
       "    .dataframe tbody tr th:only-of-type {\n",
       "        vertical-align: middle;\n",
       "    }\n",
       "\n",
       "    .dataframe tbody tr th {\n",
       "        vertical-align: top;\n",
       "    }\n",
       "\n",
       "    .dataframe thead th {\n",
       "        text-align: right;\n",
       "    }\n",
       "</style>\n",
       "<table border=\"1\" class=\"dataframe\">\n",
       "  <thead>\n",
       "    <tr style=\"text-align: right;\">\n",
       "      <th></th>\n",
       "      <th>TotalPagado</th>\n",
       "      <th>cantidadVendida</th>\n",
       "      <th>ProductoEnPromocion</th>\n",
       "      <th>PrecioFinal</th>\n",
       "      <th>cuenta_gr</th>\n",
       "    </tr>\n",
       "  </thead>\n",
       "  <tbody>\n",
       "    <tr>\n",
       "      <th>count</th>\n",
       "      <td>4.610690e+06</td>\n",
       "      <td>4.610690e+06</td>\n",
       "      <td>4.610690e+06</td>\n",
       "      <td>4.610690e+06</td>\n",
       "      <td>4610690.0</td>\n",
       "    </tr>\n",
       "    <tr>\n",
       "      <th>mean</th>\n",
       "      <td>1.711148e+05</td>\n",
       "      <td>1.282874e+00</td>\n",
       "      <td>2.386920e-01</td>\n",
       "      <td>4.853328e+03</td>\n",
       "      <td>1.0</td>\n",
       "    </tr>\n",
       "    <tr>\n",
       "      <th>std</th>\n",
       "      <td>2.088658e+06</td>\n",
       "      <td>1.782248e+01</td>\n",
       "      <td>4.262842e-01</td>\n",
       "      <td>7.549384e+03</td>\n",
       "      <td>0.0</td>\n",
       "    </tr>\n",
       "    <tr>\n",
       "      <th>min</th>\n",
       "      <td>0.000000e+00</td>\n",
       "      <td>1.000000e+00</td>\n",
       "      <td>0.000000e+00</td>\n",
       "      <td>0.000000e+00</td>\n",
       "      <td>1.0</td>\n",
       "    </tr>\n",
       "    <tr>\n",
       "      <th>25%</th>\n",
       "      <td>5.585900e+04</td>\n",
       "      <td>1.000000e+00</td>\n",
       "      <td>0.000000e+00</td>\n",
       "      <td>2.200000e+03</td>\n",
       "      <td>1.0</td>\n",
       "    </tr>\n",
       "    <tr>\n",
       "      <th>50%</th>\n",
       "      <td>1.145720e+05</td>\n",
       "      <td>1.000000e+00</td>\n",
       "      <td>0.000000e+00</td>\n",
       "      <td>3.591000e+03</td>\n",
       "      <td>1.0</td>\n",
       "    </tr>\n",
       "    <tr>\n",
       "      <th>75%</th>\n",
       "      <td>1.792800e+05</td>\n",
       "      <td>1.000000e+00</td>\n",
       "      <td>0.000000e+00</td>\n",
       "      <td>5.990000e+03</td>\n",
       "      <td>1.0</td>\n",
       "    </tr>\n",
       "    <tr>\n",
       "      <th>max</th>\n",
       "      <td>2.919293e+08</td>\n",
       "      <td>1.551800e+04</td>\n",
       "      <td>1.000000e+00</td>\n",
       "      <td>2.611090e+06</td>\n",
       "      <td>1.0</td>\n",
       "    </tr>\n",
       "  </tbody>\n",
       "</table>\n",
       "</div>"
      ],
      "text/plain": [
       "        TotalPagado  cantidadVendida  ProductoEnPromocion   PrecioFinal  \\\n",
       "count  4.610690e+06     4.610690e+06         4.610690e+06  4.610690e+06   \n",
       "mean   1.711148e+05     1.282874e+00         2.386920e-01  4.853328e+03   \n",
       "std    2.088658e+06     1.782248e+01         4.262842e-01  7.549384e+03   \n",
       "min    0.000000e+00     1.000000e+00         0.000000e+00  0.000000e+00   \n",
       "25%    5.585900e+04     1.000000e+00         0.000000e+00  2.200000e+03   \n",
       "50%    1.145720e+05     1.000000e+00         0.000000e+00  3.591000e+03   \n",
       "75%    1.792800e+05     1.000000e+00         0.000000e+00  5.990000e+03   \n",
       "max    2.919293e+08     1.551800e+04         1.000000e+00  2.611090e+06   \n",
       "\n",
       "       cuenta_gr  \n",
       "count  4610690.0  \n",
       "mean         1.0  \n",
       "std          0.0  \n",
       "min          1.0  \n",
       "25%          1.0  \n",
       "50%          1.0  \n",
       "75%          1.0  \n",
       "max          1.0  "
      ]
     },
     "execution_count": 12,
     "metadata": {},
     "output_type": "execute_result"
    }
   ],
   "source": [
    "df_p.describe()"
   ]
  },
  {
   "cell_type": "code",
   "execution_count": 13,
   "metadata": {},
   "outputs": [
    {
     "name": "stderr",
     "output_type": "stream",
     "text": [
      "/home/sebastian/anaconda3/lib/python3.6/site-packages/ipykernel_launcher.py:1: FutureWarning: 'FechaCreaciónOrden' is both an index level and a column label.\n",
      "Defaulting to column, but this will raise an ambiguity error in a future version\n",
      "  \"\"\"Entry point for launching an IPython kernel.\n"
     ]
    }
   ],
   "source": [
    "df_p.sort_values(\"FechaCreaciónOrden\",inplace=True)"
   ]
  },
  {
   "cell_type": "code",
   "execution_count": null,
   "metadata": {},
   "outputs": [],
   "source": []
  },
  {
   "cell_type": "code",
   "execution_count": 14,
   "metadata": {},
   "outputs": [
    {
     "name": "stderr",
     "output_type": "stream",
     "text": [
      "/home/sebastian/anaconda3/lib/python3.6/site-packages/ipykernel_launcher.py:1: FutureWarning: 'FechaCreaciónOrden' is both an index level and a column label.\n",
      "Defaulting to column, but this will raise an ambiguity error in a future version\n",
      "  \"\"\"Entry point for launching an IPython kernel.\n"
     ]
    },
    {
     "name": "stdout",
     "output_type": "stream",
     "text": [
      "CPU times: user 5.44 s, sys: 608 ms, total: 6.05 s\n",
      "Wall time: 5.12 s\n"
     ]
    }
   ],
   "source": [
    "%time agg = df_p.groupby(vars_group_b,as_index=False).sum()"
   ]
  },
  {
   "cell_type": "code",
   "execution_count": 26,
   "metadata": {},
   "outputs": [],
   "source": [
    "agg[\"prediction_\"] = np.random.randint(low=1,high=2,size=agg.shape[0])"
   ]
  },
  {
   "cell_type": "code",
   "execution_count": 28,
   "metadata": {},
   "outputs": [],
   "source": [
    "agg.to_csv(\"../Data/AGG_MERQUEO.csv\",encoding='latin1',index=False)"
   ]
  },
  {
   "cell_type": "code",
   "execution_count": 29,
   "metadata": {},
   "outputs": [
    {
     "data": {
      "text/html": [
       "<div>\n",
       "<style scoped>\n",
       "    .dataframe tbody tr th:only-of-type {\n",
       "        vertical-align: middle;\n",
       "    }\n",
       "\n",
       "    .dataframe tbody tr th {\n",
       "        vertical-align: top;\n",
       "    }\n",
       "\n",
       "    .dataframe thead th {\n",
       "        text-align: right;\n",
       "    }\n",
       "</style>\n",
       "<table border=\"1\" class=\"dataframe\">\n",
       "  <thead>\n",
       "    <tr style=\"text-align: right;\">\n",
       "      <th></th>\n",
       "      <th>FechaCreaciónOrden</th>\n",
       "      <th>month_year</th>\n",
       "      <th>Ciudad</th>\n",
       "      <th>Departamento</th>\n",
       "      <th>estadoOrden</th>\n",
       "      <th>stado_producto</th>\n",
       "      <th>Marca</th>\n",
       "      <th>NombreProducto</th>\n",
       "      <th>Pasillo</th>\n",
       "      <th>Categoria</th>\n",
       "      <th>ProductoEnPromocion</th>\n",
       "      <th>TotalPagado</th>\n",
       "      <th>cantidadVendida</th>\n",
       "      <th>PrecioFinal</th>\n",
       "      <th>cuenta_gr</th>\n",
       "      <th>prediction_</th>\n",
       "    </tr>\n",
       "  </thead>\n",
       "  <tbody>\n",
       "    <tr>\n",
       "      <th>0</th>\n",
       "      <td>2017-02-13</td>\n",
       "      <td>2017-2</td>\n",
       "      <td>Bogotá</td>\n",
       "      <td>Aseo del hogar</td>\n",
       "      <td>Cancelled</td>\n",
       "      <td>Fullfilled</td>\n",
       "      <td>Coco varela</td>\n",
       "      <td>Jabón en barra Coco varela</td>\n",
       "      <td>Cuidado de la ropa</td>\n",
       "      <td>Jabón en barra</td>\n",
       "      <td>0.0</td>\n",
       "      <td>80650.0</td>\n",
       "      <td>1.0</td>\n",
       "      <td>2800.0</td>\n",
       "      <td>1</td>\n",
       "      <td>1</td>\n",
       "    </tr>\n",
       "    <tr>\n",
       "      <th>1</th>\n",
       "      <td>2017-02-13</td>\n",
       "      <td>2017-2</td>\n",
       "      <td>Bogotá</td>\n",
       "      <td>Aseo del hogar</td>\n",
       "      <td>Cancelled</td>\n",
       "      <td>Fullfilled</td>\n",
       "      <td>Dersa</td>\n",
       "      <td>Jabón en barra Coco</td>\n",
       "      <td>Cuidado de la ropa</td>\n",
       "      <td>Jabón en barra</td>\n",
       "      <td>0.0</td>\n",
       "      <td>80650.0</td>\n",
       "      <td>1.0</td>\n",
       "      <td>1650.0</td>\n",
       "      <td>1</td>\n",
       "      <td>1</td>\n",
       "    </tr>\n",
       "    <tr>\n",
       "      <th>2</th>\n",
       "      <td>2017-02-13</td>\n",
       "      <td>2017-2</td>\n",
       "      <td>Bogotá</td>\n",
       "      <td>Aseo del hogar</td>\n",
       "      <td>Cancelled</td>\n",
       "      <td>Fullfilled</td>\n",
       "      <td>Doméstico</td>\n",
       "      <td>Guantes talla l Doméstico</td>\n",
       "      <td>Implementos de limpieza</td>\n",
       "      <td>Guantes</td>\n",
       "      <td>0.0</td>\n",
       "      <td>40850.0</td>\n",
       "      <td>1.0</td>\n",
       "      <td>2000.0</td>\n",
       "      <td>1</td>\n",
       "      <td>1</td>\n",
       "    </tr>\n",
       "    <tr>\n",
       "      <th>3</th>\n",
       "      <td>2017-02-13</td>\n",
       "      <td>2017-2</td>\n",
       "      <td>Bogotá</td>\n",
       "      <td>Aseo del hogar</td>\n",
       "      <td>Cancelled</td>\n",
       "      <td>Fullfilled</td>\n",
       "      <td>Doméstico</td>\n",
       "      <td>Guantes talla m Doméstico</td>\n",
       "      <td>Implementos de limpieza</td>\n",
       "      <td>Guantes</td>\n",
       "      <td>0.0</td>\n",
       "      <td>33500.0</td>\n",
       "      <td>1.0</td>\n",
       "      <td>2000.0</td>\n",
       "      <td>1</td>\n",
       "      <td>1</td>\n",
       "    </tr>\n",
       "    <tr>\n",
       "      <th>4</th>\n",
       "      <td>2017-02-13</td>\n",
       "      <td>2017-2</td>\n",
       "      <td>Bogotá</td>\n",
       "      <td>Aseo del hogar</td>\n",
       "      <td>Cancelled</td>\n",
       "      <td>Fullfilled</td>\n",
       "      <td>Fab</td>\n",
       "      <td>Detergente líquido Fab Floral botella</td>\n",
       "      <td>Cuidado de la ropa</td>\n",
       "      <td>Detergente</td>\n",
       "      <td>0.0</td>\n",
       "      <td>80650.0</td>\n",
       "      <td>1.0</td>\n",
       "      <td>11100.0</td>\n",
       "      <td>1</td>\n",
       "      <td>1</td>\n",
       "    </tr>\n",
       "  </tbody>\n",
       "</table>\n",
       "</div>"
      ],
      "text/plain": [
       "  FechaCreaciónOrden month_year  Ciudad    Departamento estadoOrden  \\\n",
       "0         2017-02-13     2017-2  Bogotá  Aseo del hogar   Cancelled   \n",
       "1         2017-02-13     2017-2  Bogotá  Aseo del hogar   Cancelled   \n",
       "2         2017-02-13     2017-2  Bogotá  Aseo del hogar   Cancelled   \n",
       "3         2017-02-13     2017-2  Bogotá  Aseo del hogar   Cancelled   \n",
       "4         2017-02-13     2017-2  Bogotá  Aseo del hogar   Cancelled   \n",
       "\n",
       "  stado_producto        Marca                         NombreProducto  \\\n",
       "0     Fullfilled  Coco varela             Jabón en barra Coco varela   \n",
       "1     Fullfilled        Dersa                    Jabón en barra Coco   \n",
       "2     Fullfilled    Doméstico              Guantes talla l Doméstico   \n",
       "3     Fullfilled    Doméstico              Guantes talla m Doméstico   \n",
       "4     Fullfilled          Fab  Detergente líquido Fab Floral botella   \n",
       "\n",
       "                   Pasillo       Categoria  ProductoEnPromocion  TotalPagado  \\\n",
       "0       Cuidado de la ropa  Jabón en barra                  0.0      80650.0   \n",
       "1       Cuidado de la ropa  Jabón en barra                  0.0      80650.0   \n",
       "2  Implementos de limpieza         Guantes                  0.0      40850.0   \n",
       "3  Implementos de limpieza         Guantes                  0.0      33500.0   \n",
       "4       Cuidado de la ropa      Detergente                  0.0      80650.0   \n",
       "\n",
       "   cantidadVendida  PrecioFinal  cuenta_gr  prediction_  \n",
       "0              1.0       2800.0          1            1  \n",
       "1              1.0       1650.0          1            1  \n",
       "2              1.0       2000.0          1            1  \n",
       "3              1.0       2000.0          1            1  \n",
       "4              1.0      11100.0          1            1  "
      ]
     },
     "execution_count": 29,
     "metadata": {},
     "output_type": "execute_result"
    }
   ],
   "source": [
    "agg.head()"
   ]
  },
  {
   "cell_type": "code",
   "execution_count": null,
   "metadata": {},
   "outputs": [],
   "source": [
    "df_p.columns"
   ]
  },
  {
   "cell_type": "code",
   "execution_count": null,
   "metadata": {},
   "outputs": [],
   "source": [
    "from sklearn.preprocessing import StandardScaler\n",
    "scaler = StandardScaler()"
   ]
  },
  {
   "cell_type": "code",
   "execution_count": null,
   "metadata": {},
   "outputs": [],
   "source": [
    "def get_feat_y(df):\n",
    "    dum = pd.get_dummies(df[[\"Pasillo\",\"Ciudad\"]])\n",
    "    print(dum.shape,df.TotalPagado.values.shape)\n",
    "    X = pd.concat([df.TotalPagado,dum]).values\n",
    "    scaler = StandardScaler()\n",
    "    x_scl = scaler.fit_transform(X)\n",
    "    Y = df.cantidadVendida.values\n",
    "    val_names = df.columns.tolist()\n",
    "    return {'X':x_scl,'Y':Y,'colnames':val_names}"
   ]
  },
  {
   "cell_type": "code",
   "execution_count": null,
   "metadata": {},
   "outputs": [],
   "source": [
    "df_train = get_feat_y(df_p[:'2017-11'])\n",
    "df_val = get_feat_y(df_p['2017-12':'2018-01'])\n",
    "df_test = get_feat_y(df_p['2018-02':])"
   ]
  },
  {
   "cell_type": "code",
   "execution_count": null,
   "metadata": {},
   "outputs": [],
   "source": [
    "df_train.shape[0]+df_val.shape[0]+df_test.shape[0]"
   ]
  },
  {
   "cell_type": "code",
   "execution_count": null,
   "metadata": {},
   "outputs": [],
   "source": [
    "df_p.columns"
   ]
  },
  {
   "cell_type": "code",
   "execution_count": null,
   "metadata": {},
   "outputs": [],
   "source": []
  },
  {
   "cell_type": "code",
   "execution_count": null,
   "metadata": {},
   "outputs": [],
   "source": []
  },
  {
   "cell_type": "code",
   "execution_count": null,
   "metadata": {},
   "outputs": [],
   "source": []
  },
  {
   "cell_type": "code",
   "execution_count": null,
   "metadata": {},
   "outputs": [],
   "source": []
  },
  {
   "cell_type": "code",
   "execution_count": null,
   "metadata": {},
   "outputs": [],
   "source": [
    "%time difagg = df_p['2017-2':'2018-02'].groupby(\"Ciudad\").sum()[[\"TotalPagado\"]]"
   ]
  },
  {
   "cell_type": "code",
   "execution_count": null,
   "metadata": {},
   "outputs": [],
   "source": [
    "%time \" | \".join([\"%s %dM\" % (e[0],e[1]/1000000000) for e in zip(difagg.index,difagg.values)])"
   ]
  },
  {
   "cell_type": "code",
   "execution_count": null,
   "metadata": {},
   "outputs": [],
   "source": [
    "import matplotlib.pyplot as plt"
   ]
  },
  {
   "cell_type": "code",
   "execution_count": null,
   "metadata": {},
   "outputs": [],
   "source": [
    "plt.hist(np.log10(df_p[df_p.TotalPagado>0].TotalPagado),bins=100)"
   ]
  },
  {
   "cell_type": "code",
   "execution_count": null,
   "metadata": {},
   "outputs": [],
   "source": []
  },
  {
   "cell_type": "code",
   "execution_count": null,
   "metadata": {},
   "outputs": [],
   "source": [
    "agg.shape"
   ]
  },
  {
   "cell_type": "code",
   "execution_count": null,
   "metadata": {},
   "outputs": [],
   "source": [
    "df_p.estadoOrden.value_counts()"
   ]
  },
  {
   "cell_type": "code",
   "execution_count": null,
   "metadata": {},
   "outputs": [],
   "source": []
  },
  {
   "cell_type": "code",
   "execution_count": null,
   "metadata": {},
   "outputs": [],
   "source": []
  }
 ],
 "metadata": {
  "kernelspec": {
   "display_name": "Python 3",
   "language": "python",
   "name": "python3"
  },
  "language_info": {
   "codemirror_mode": {
    "name": "ipython",
    "version": 3
   },
   "file_extension": ".py",
   "mimetype": "text/x-python",
   "name": "python",
   "nbconvert_exporter": "python",
   "pygments_lexer": "ipython3",
   "version": "3.6.6"
  }
 },
 "nbformat": 4,
 "nbformat_minor": 2
}
