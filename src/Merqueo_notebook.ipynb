{
 "cells": [
  {
   "cell_type": "code",
   "execution_count": 1,
   "metadata": {},
   "outputs": [],
   "source": [
    "import pandas as pd\n",
    "import zipfile\n",
    "import os\n",
    "import sys\n",
    "from datetime import datetime\n",
    "from datetime import timedelta\n",
    "import numpy as np\n",
    "pd.set_option('display.max_columns', 500)"
   ]
  },
  {
   "cell_type": "code",
   "execution_count": 2,
   "metadata": {},
   "outputs": [],
   "source": [
    "# dateparse = lambda x: pd.datetime.strptime(x, '%Y-%m-%d')\n",
    "vars_serg = [\"estadoOrden\",\"Ciudad\",\"Departamento\",\n",
    "             \"stado_producto\",\"Marca\",\"Pasillo\",\"Categoria\",\n",
    "             \"ProductoEnPromocion\",\"cantidadVendida\",\n",
    "             \"TotalPagado\",\"Domicilio\",\"PrecioFinal\",\n",
    "             \"FechaCreaciónOrden\"]\n",
    "#              \"FechaProgramaciónOrden\",\n",
    "#              \"FechadeEntregaOrden\",\"fechacreacionProducto\"]\n",
    "# chunks = pd.read_csv(filepath_or_buffer=\"Data/MERQ_CONS\",\n",
    "#                  delimiter=\",\",\n",
    "#                  encoding='latin1',\n",
    "#                  usecols=vars_serg,\n",
    "#                  chunksize=300000)"
   ]
  },
  {
   "cell_type": "code",
   "execution_count": 3,
   "metadata": {},
   "outputs": [],
   "source": [
    "import dask.dataframe as dd"
   ]
  },
  {
   "cell_type": "code",
   "execution_count": 4,
   "metadata": {},
   "outputs": [],
   "source": [
    "df_dask = dd.read_csv(\"Data/MERQ_CONS\",\n",
    "                      usecols=vars_serg,\n",
    "                      encoding='latin1',\n",
    "                      assume_missing=True,\n",
    "                     dtype={'estadoOrden' : str,\n",
    "                            'TotalPagado' : np.float64,\n",
    "                            \"Domicilio\" : str,\n",
    "                            \"FechaCreaciónOrden\" : str,\n",
    "                            \"FechaProgramaciónOrden\" : str,\n",
    "                            \"FechadeEntregaOrden\" : str,\n",
    "                            \"Ciudad\" : str,\n",
    "                            \"fechacreacionProducto\" : str,\n",
    "                            \"stado_producto\" : str,\n",
    "                            \"Marca\" : str,\n",
    "                            \"Departamento\" : str,\n",
    "                            \"Pasillo\" : str,\n",
    "                            \"Categoria\" : str,\n",
    "                            \"ProductoEnPromocion\" : np.float64,\n",
    "                            \"cantidadVendida\" : np.float64,\n",
    "                            \"PrecioFinal\": np.float64})"
   ]
  },
  {
   "cell_type": "code",
   "execution_count": 5,
   "metadata": {
    "scrolled": true
   },
   "outputs": [],
   "source": [
    "df_dask = df_dask.dropna()\n",
    "df_dask.set_index(\"FechaCreaciónOrden\")\n",
    "df_dask[\"FechaCreaciónOrden\"] = df_dask[\"FechaCreaciónOrden\"].map_partitions(pd.to_datetime,\n",
    "                                                                             format='%Y-%m-%d',\n",
    "                                                                             meta = ('datetime64[ns]'))"
   ]
  },
  {
   "cell_type": "code",
   "execution_count": 6,
   "metadata": {},
   "outputs": [
    {
     "data": {
      "text/html": [
       "<div>\n",
       "<style scoped>\n",
       "    .dataframe tbody tr th:only-of-type {\n",
       "        vertical-align: middle;\n",
       "    }\n",
       "\n",
       "    .dataframe tbody tr th {\n",
       "        vertical-align: top;\n",
       "    }\n",
       "\n",
       "    .dataframe thead th {\n",
       "        text-align: right;\n",
       "    }\n",
       "</style>\n",
       "<table border=\"1\" class=\"dataframe\">\n",
       "  <thead>\n",
       "    <tr style=\"text-align: right;\">\n",
       "      <th></th>\n",
       "      <th>estadoOrden</th>\n",
       "      <th>TotalPagado</th>\n",
       "      <th>Domicilio</th>\n",
       "      <th>FechaCreaciónOrden</th>\n",
       "      <th>Ciudad</th>\n",
       "      <th>stado_producto</th>\n",
       "      <th>Marca</th>\n",
       "      <th>Departamento</th>\n",
       "      <th>Pasillo</th>\n",
       "      <th>Categoria</th>\n",
       "      <th>cantidadVendida</th>\n",
       "      <th>ProductoEnPromocion</th>\n",
       "      <th>PrecioFinal</th>\n",
       "    </tr>\n",
       "  </thead>\n",
       "  <tbody>\n",
       "    <tr>\n",
       "      <th>0</th>\n",
       "      <td>Cancelled</td>\n",
       "      <td>10450.0</td>\n",
       "      <td>4000</td>\n",
       "      <td>2017-02-13</td>\n",
       "      <td>Bogotá</td>\n",
       "      <td>Pending</td>\n",
       "      <td>Justo&amp;Bueno</td>\n",
       "      <td>Bebidas</td>\n",
       "      <td>Té</td>\n",
       "      <td>Té preparado</td>\n",
       "      <td>2.0</td>\n",
       "      <td>0.0</td>\n",
       "      <td>950.0</td>\n",
       "    </tr>\n",
       "    <tr>\n",
       "      <th>1</th>\n",
       "      <td>Cancelled</td>\n",
       "      <td>10450.0</td>\n",
       "      <td>4000</td>\n",
       "      <td>2017-02-13</td>\n",
       "      <td>Bogotá</td>\n",
       "      <td>Pending</td>\n",
       "      <td>Justo&amp;Bueno</td>\n",
       "      <td>Bebidas</td>\n",
       "      <td>Té</td>\n",
       "      <td>Té preparado</td>\n",
       "      <td>5.0</td>\n",
       "      <td>0.0</td>\n",
       "      <td>950.0</td>\n",
       "    </tr>\n",
       "    <tr>\n",
       "      <th>2</th>\n",
       "      <td>Cancelled</td>\n",
       "      <td>10450.0</td>\n",
       "      <td>4000</td>\n",
       "      <td>2017-02-13</td>\n",
       "      <td>Bogotá</td>\n",
       "      <td>Pending</td>\n",
       "      <td>Justo&amp;Bueno</td>\n",
       "      <td>Bebidas</td>\n",
       "      <td>Té</td>\n",
       "      <td>Té preparado</td>\n",
       "      <td>4.0</td>\n",
       "      <td>0.0</td>\n",
       "      <td>950.0</td>\n",
       "    </tr>\n",
       "    <tr>\n",
       "      <th>3</th>\n",
       "      <td>Cancelled</td>\n",
       "      <td>13650.0</td>\n",
       "      <td>2000</td>\n",
       "      <td>2017-02-13</td>\n",
       "      <td>Bogotá</td>\n",
       "      <td>Pending</td>\n",
       "      <td>Merqueo</td>\n",
       "      <td>Lácteos y huevos</td>\n",
       "      <td>Huevos</td>\n",
       "      <td>Huevos</td>\n",
       "      <td>1.0</td>\n",
       "      <td>1.0</td>\n",
       "      <td>6900.0</td>\n",
       "    </tr>\n",
       "    <tr>\n",
       "      <th>4</th>\n",
       "      <td>Cancelled</td>\n",
       "      <td>13650.0</td>\n",
       "      <td>2000</td>\n",
       "      <td>2017-02-13</td>\n",
       "      <td>Bogotá</td>\n",
       "      <td>Pending</td>\n",
       "      <td>Merqueo</td>\n",
       "      <td>Lácteos y huevos</td>\n",
       "      <td>Huevos</td>\n",
       "      <td>Huevos</td>\n",
       "      <td>1.0</td>\n",
       "      <td>0.0</td>\n",
       "      <td>3750.0</td>\n",
       "    </tr>\n",
       "  </tbody>\n",
       "</table>\n",
       "</div>"
      ],
      "text/plain": [
       "  estadoOrden  TotalPagado Domicilio FechaCreaciónOrden  Ciudad  \\\n",
       "0   Cancelled      10450.0      4000         2017-02-13  Bogotá   \n",
       "1   Cancelled      10450.0      4000         2017-02-13  Bogotá   \n",
       "2   Cancelled      10450.0      4000         2017-02-13  Bogotá   \n",
       "3   Cancelled      13650.0      2000         2017-02-13  Bogotá   \n",
       "4   Cancelled      13650.0      2000         2017-02-13  Bogotá   \n",
       "\n",
       "  stado_producto        Marca      Departamento Pasillo     Categoria  \\\n",
       "0        Pending  Justo&Bueno           Bebidas      Té  Té preparado   \n",
       "1        Pending  Justo&Bueno           Bebidas      Té  Té preparado   \n",
       "2        Pending  Justo&Bueno           Bebidas      Té  Té preparado   \n",
       "3        Pending      Merqueo  Lácteos y huevos  Huevos        Huevos   \n",
       "4        Pending      Merqueo  Lácteos y huevos  Huevos        Huevos   \n",
       "\n",
       "   cantidadVendida  ProductoEnPromocion  PrecioFinal  \n",
       "0              2.0                  0.0        950.0  \n",
       "1              5.0                  0.0        950.0  \n",
       "2              4.0                  0.0        950.0  \n",
       "3              1.0                  1.0       6900.0  \n",
       "4              1.0                  0.0       3750.0  "
      ]
     },
     "execution_count": 6,
     "metadata": {},
     "output_type": "execute_result"
    }
   ],
   "source": [
    "df_dask.head()"
   ]
  },
  {
   "cell_type": "code",
   "execution_count": 14,
   "metadata": {},
   "outputs": [],
   "source": [
    "vars_group_b = [\"FechaCreaciónOrden\",\n",
    "                \"Ciudad\",\"Departamento\",\n",
    "                \"estadoOrden\",\"stado_producto\",\n",
    "                \"Marca\",\"Pasillo\",\"Categoria\",\n",
    "                \"ProductoEnPromocion\"]"
   ]
  },
  {
   "cell_type": "code",
   "execution_count": 17,
   "metadata": {},
   "outputs": [
    {
     "ename": "TypeError",
     "evalue": "__init__() got an unexpected keyword argument 'as_index'",
     "output_type": "error",
     "traceback": [
      "\u001b[0;31m---------------------------------------------------------------------------\u001b[0m",
      "\u001b[0;31mTypeError\u001b[0m                                 Traceback (most recent call last)",
      "\u001b[0;32m<ipython-input-17-72c6526d9561>\u001b[0m in \u001b[0;36m<module>\u001b[0;34m()\u001b[0m\n\u001b[0;32m----> 1\u001b[0;31m \u001b[0magg\u001b[0m \u001b[0;34m=\u001b[0m \u001b[0mdf_dask\u001b[0m\u001b[0;34m.\u001b[0m\u001b[0mgroupby\u001b[0m\u001b[0;34m(\u001b[0m\u001b[0mvars_group_b\u001b[0m\u001b[0;34m,\u001b[0m\u001b[0mas_index\u001b[0m \u001b[0;34m=\u001b[0m \u001b[0;32mTrue\u001b[0m\u001b[0;34m)\u001b[0m\u001b[0;34m.\u001b[0m\u001b[0msum\u001b[0m\u001b[0;34m(\u001b[0m\u001b[0;34m)\u001b[0m\u001b[0;34m\u001b[0m\u001b[0m\n\u001b[0m",
      "\u001b[0;32m/opt/conda/lib/python3.6/site-packages/dask/dataframe/core.py\u001b[0m in \u001b[0;36mgroupby\u001b[0;34m(self, by, **kwargs)\u001b[0m\n\u001b[1;32m   2668\u001b[0m     \u001b[0;32mdef\u001b[0m \u001b[0mgroupby\u001b[0m\u001b[0;34m(\u001b[0m\u001b[0mself\u001b[0m\u001b[0;34m,\u001b[0m \u001b[0mby\u001b[0m\u001b[0;34m=\u001b[0m\u001b[0;32mNone\u001b[0m\u001b[0;34m,\u001b[0m \u001b[0;34m**\u001b[0m\u001b[0mkwargs\u001b[0m\u001b[0;34m)\u001b[0m\u001b[0;34m:\u001b[0m\u001b[0;34m\u001b[0m\u001b[0m\n\u001b[1;32m   2669\u001b[0m         \u001b[0;32mfrom\u001b[0m \u001b[0mdask\u001b[0m\u001b[0;34m.\u001b[0m\u001b[0mdataframe\u001b[0m\u001b[0;34m.\u001b[0m\u001b[0mgroupby\u001b[0m \u001b[0;32mimport\u001b[0m \u001b[0mDataFrameGroupBy\u001b[0m\u001b[0;34m\u001b[0m\u001b[0m\n\u001b[0;32m-> 2670\u001b[0;31m         \u001b[0;32mreturn\u001b[0m \u001b[0mDataFrameGroupBy\u001b[0m\u001b[0;34m(\u001b[0m\u001b[0mself\u001b[0m\u001b[0;34m,\u001b[0m \u001b[0mby\u001b[0m\u001b[0;34m=\u001b[0m\u001b[0mby\u001b[0m\u001b[0;34m,\u001b[0m \u001b[0;34m**\u001b[0m\u001b[0mkwargs\u001b[0m\u001b[0;34m)\u001b[0m\u001b[0;34m\u001b[0m\u001b[0m\n\u001b[0m\u001b[1;32m   2671\u001b[0m \u001b[0;34m\u001b[0m\u001b[0m\n\u001b[1;32m   2672\u001b[0m     \u001b[0;34m@\u001b[0m\u001b[0mwraps\u001b[0m\u001b[0;34m(\u001b[0m\u001b[0mcategorize\u001b[0m\u001b[0;34m)\u001b[0m\u001b[0;34m\u001b[0m\u001b[0m\n",
      "\u001b[0;31mTypeError\u001b[0m: __init__() got an unexpected keyword argument 'as_index'"
     ]
    }
   ],
   "source": [
    "agg = df_dask.groupby(vars_group_b).sum()"
   ]
  },
  {
   "cell_type": "code",
   "execution_count": null,
   "metadata": {},
   "outputs": [],
   "source": [
    "%time nulls.compute()"
   ]
  },
  {
   "cell_type": "code",
   "execution_count": null,
   "metadata": {},
   "outputs": [],
   "source": [
    "report_device = df_dask.estadoOrden.value_counts()/df_dask.estadoOrden.value_counts().sum()\n",
    "report_device.compute()"
   ]
  },
  {
   "cell_type": "code",
   "execution_count": null,
   "metadata": {},
   "outputs": [],
   "source": [
    "df_dask.dtypes"
   ]
  },
  {
   "cell_type": "code",
   "execution_count": 20,
   "metadata": {},
   "outputs": [],
   "source": [
    "df_p = pd.read_csv(\"Data/MERQ_CONS\",\n",
    "                      usecols=vars_serg,\n",
    "                      encoding='latin1',\n",
    "                     dtype={'estadoOrden' : str,\n",
    "                            'TotalPagado' : np.float64,\n",
    "                            \"Domicilio\" : str,\n",
    "                            \"FechaCreaciónOrden\" : str,\n",
    "                            \"FechaProgramaciónOrden\" : str,\n",
    "                            \"FechadeEntregaOrden\" : str,\n",
    "                            \"Ciudad\" : str,\n",
    "                            \"fechacreacionProducto\" : str,\n",
    "                            \"stado_producto\" : str,\n",
    "                            \"Marca\" : str,\n",
    "                            \"Departamento\" : str,\n",
    "                            \"Pasillo\" : str,\n",
    "                            \"Categoria\" : str,\n",
    "                            \"ProductoEnPromocion\" : np.float64,\n",
    "                            \"cantidadVendida\" : np.float64,\n",
    "                            \"PrecioFinal\": np.float64})"
   ]
  },
  {
   "cell_type": "code",
   "execution_count": 21,
   "metadata": {},
   "outputs": [],
   "source": [
    "df_p = df_p.dropna()"
   ]
  },
  {
   "cell_type": "code",
   "execution_count": 23,
   "metadata": {},
   "outputs": [],
   "source": [
    "agg = df_p.groupby(vars_group_b,as_index=False).sum()"
   ]
  },
  {
   "cell_type": "code",
   "execution_count": 26,
   "metadata": {},
   "outputs": [
    {
     "data": {
      "text/plain": [
       "(638906, 12)"
      ]
     },
     "execution_count": 26,
     "metadata": {},
     "output_type": "execute_result"
    }
   ],
   "source": [
    "agg.shape"
   ]
  },
  {
   "cell_type": "code",
   "execution_count": 27,
   "metadata": {},
   "outputs": [],
   "source": [
    "agg.to_csv(\"Data/AGG_MERQUEO.csv\",index=False)"
   ]
  },
  {
   "cell_type": "code",
   "execution_count": 30,
   "metadata": {},
   "outputs": [
    {
     "name": "stdout",
     "output_type": "stream",
     "text": [
      " * Serving Flask app \"dash_test\" (lazy loading)\n",
      " * Environment: production\n",
      "\u001b[31m   WARNING: Do not use the development server in a production environment.\u001b[0m\n",
      "\u001b[2m   Use a production WSGI server instead.\u001b[0m\n",
      " * Debug mode: on\n",
      " * Running on http://127.0.0.1:8050/ (Press CTRL+C to quit)\n",
      " * Restarting with stat\n",
      " * Debugger is active!\n",
      " * Debugger PIN: 340-626-715\n",
      "^C\n"
     ]
    }
   ],
   "source": [
    "\n",
    "! python dash_test.py"
   ]
  }
 ],
 "metadata": {
  "kernelspec": {
   "display_name": "Python 3",
   "language": "python",
   "name": "python3"
  },
  "language_info": {
   "codemirror_mode": {
    "name": "ipython",
    "version": 3
   },
   "file_extension": ".py",
   "mimetype": "text/x-python",
   "name": "python",
   "nbconvert_exporter": "python",
   "pygments_lexer": "ipython3",
   "version": "3.6.3"
  }
 },
 "nbformat": 4,
 "nbformat_minor": 2
}
